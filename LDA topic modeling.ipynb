{
 "cells": [
  {
   "cell_type": "markdown",
   "metadata": {
    "colab_type": "text",
    "id": "vbHGljcQalKx"
   },
   "source": [
    "# Instagram Scraper\n",
    "\n"
   ]
  },
  {
   "cell_type": "code",
   "execution_count": 0,
   "metadata": {
    "colab": {
     "base_uri": "https://localhost:8080/",
     "height": 319
    },
    "colab_type": "code",
    "executionInfo": {
     "elapsed": 5286,
     "status": "ok",
     "timestamp": 1573679278834,
     "user": {
      "displayName": "He Wang",
      "photoUrl": "",
      "userId": "03271840868959527360"
     },
     "user_tz": 360
    },
    "id": "5G4owP8yA78x",
    "outputId": "108c80e0-3e77-4000-aba9-852933f3f5b2"
   },
   "outputs": [
    {
     "name": "stdout",
     "output_type": "stream",
     "text": [
      "Collecting instaloader\n",
      "  Downloading https://files.pythonhosted.org/packages/99/88/6b7d5df63f48f47be8e8f16e83e0530baa80ce1fc3b753cfcfbb79acdcfe/instaloader-4.2.10.tar.gz\n",
      "Requirement already satisfied: requests>=2.4 in /usr/local/lib/python3.6/dist-packages (from instaloader) (2.21.0)\n",
      "Requirement already satisfied: certifi>=2017.4.17 in /usr/local/lib/python3.6/dist-packages (from requests>=2.4->instaloader) (2019.9.11)\n",
      "Requirement already satisfied: urllib3<1.25,>=1.21.1 in /usr/local/lib/python3.6/dist-packages (from requests>=2.4->instaloader) (1.24.3)\n",
      "Requirement already satisfied: chardet<3.1.0,>=3.0.2 in /usr/local/lib/python3.6/dist-packages (from requests>=2.4->instaloader) (3.0.4)\n",
      "Requirement already satisfied: idna<2.9,>=2.5 in /usr/local/lib/python3.6/dist-packages (from requests>=2.4->instaloader) (2.8)\n",
      "Building wheels for collected packages: instaloader\n",
      "  Building wheel for instaloader (setup.py) ... \u001b[?25l\u001b[?25hdone\n",
      "  Created wheel for instaloader: filename=instaloader-4.2.10-cp36-none-any.whl size=41056 sha256=3257b554986bd6e50dcf06ddad5b86156bccb0646f785ad72d9eb873744a1c9b\n",
      "  Stored in directory: /root/.cache/pip/wheels/16/78/4d/9693042fa92e1003fc2f87909e07d341c4242023cd9f16999f\n",
      "Successfully built instaloader\n",
      "Installing collected packages: instaloader\n",
      "Successfully installed instaloader-4.2.10\n"
     ]
    }
   ],
   "source": [
    "!pip install instaloader\n"
   ]
  },
  {
   "cell_type": "code",
   "execution_count": 0,
   "metadata": {
    "colab": {},
    "colab_type": "code",
    "id": "tp7g5AMEY9ej"
   },
   "outputs": [],
   "source": [
    "import json\n",
    "import instaloader\n",
    "import profile "
   ]
  },
  {
   "cell_type": "code",
   "execution_count": 0,
   "metadata": {
    "colab": {
     "base_uri": "https://localhost:8080/",
     "height": 119
    },
    "colab_type": "code",
    "executionInfo": {
     "elapsed": 1724,
     "status": "error",
     "timestamp": 1573679189915,
     "user": {
      "displayName": "Chenyi Zhang",
      "photoUrl": "",
      "userId": "01547702357671122226"
     },
     "user_tz": 360
    },
    "id": "i3aoYMF7aRJF",
    "outputId": "6fa70c0d-dd59-4cb0-9a5d-20f12b9927a1"
   },
   "outputs": [
    {
     "name": "stdout",
     "output_type": "stream",
     "text": [
      "\n",
      "Too many queries in the last time. Need to wait 71 seconds, until 21:35.\n",
      "\n",
      "Too many queries in the last time. Need to wait 73 seconds, until 21:36.\n",
      "\n",
      "Too many queries in the last time. Need to wait 44 seconds, until 21:37.\n"
     ]
    }
   ],
   "source": [
    "import instaloader\n",
    "\n",
    "L = instaloader.Instaloader()\n",
    "USER = \"natgeo\"\n",
    "PROFILE = instaloader.Profile.from_username(L.context, USER)\n",
    "\n",
    "likes = []\n",
    "comments = []\n",
    "caption = []\n",
    "url = []\n",
    "i = 0\n",
    "for post in PROFILE.get_posts():\n",
    "    if i <=600 and post.is_video == False:\n",
    "        likes.append(post.likes)\n",
    "        comments.append(post.comments)\n",
    "        caption.append(post.caption)\n",
    "        url.append(post.url)\n",
    "        i+=1\n",
    "    else:\n",
    "        pass"
   ]
  },
  {
   "cell_type": "code",
   "execution_count": 0,
   "metadata": {
    "colab": {},
    "colab_type": "code",
    "id": "LqlwtSJie52T"
   },
   "outputs": [],
   "source": [
    "import pandas as pd \n",
    "df = pd.DataFrame(list(zip(caption,url,likes,comments)))\n",
    "df.columns=['caption','url','likes','comments']"
   ]
  },
  {
   "cell_type": "code",
   "execution_count": 0,
   "metadata": {
    "colab": {},
    "colab_type": "code",
    "id": "_eKPGVZhkCwM"
   },
   "outputs": [],
   "source": [
    "import xlrd\n",
    "from google.cloud import vision\n",
    "import os\n",
    "import pandas as pd\n",
    "\n",
    "Application_Credentials = 'Python-03112e22a573.json'\n",
    "os.environ['GOOGLE_APPLICATION_CREDENTIALS'] = Application_Credentials\n",
    "client = vision.ImageAnnotatorClient()\n",
    "image = vision.types.Image()\n",
    "\n",
    "loc = (\"image_url.xlsx\")\n",
    "wb = xlrd.open_workbook(loc)\n",
    "sheet = wb.sheet_by_index(0)\n",
    "sheet.cell_value(0, 0)\n",
    "df = pd.DataFrame()\n",
    "# loop through every url, retreive the image and send to google vision\n",
    "for i in range(sheet.nrows):\n",
    "    image_src_temp = sheet.cell_value(i, 0)\n",
    "    image.source.image_uri = image_src_temp\n",
    "    response = client.label_detection(image=image)\n",
    "    labels = response.label_annotations\n",
    "    l = []\n",
    "    for label in labels:\n",
    "        l.append(label.description)\n",
    "    s = ' '.join(l)\n",
    "    print(\"s\")\n",
    "    print(s)\n",
    "    df = df.append({'URL': image_src_temp, 'Labels': s}, ignore_index=True)\n",
    "df.to_excel(\"Insta_withoutcomments1.xlsx\",index=False)"
   ]
  },
  {
   "cell_type": "markdown",
   "metadata": {
    "colab_type": "text",
    "id": "C1ycQV_Xasyq"
   },
   "source": [
    "# Google Vision API\n"
   ]
  },
  {
   "cell_type": "code",
   "execution_count": 0,
   "metadata": {
    "colab": {},
    "colab_type": "code",
    "id": "wNwpBHftaxrC"
   },
   "outputs": [],
   "source": [
    "!pip install --user google-cloud\n",
    "!pip install --user google-cloud-vision\n",
    "!pip install --upgrade google-cloud-storage"
   ]
  },
  {
   "cell_type": "code",
   "execution_count": 0,
   "metadata": {
    "colab": {},
    "colab_type": "code",
    "id": "aQNtx6j_a0yP"
   },
   "outputs": [],
   "source": [
    "import xlrd\n",
    "from google.cloud import vision\n",
    "import os\n",
    "import pandas as pd"
   ]
  },
  {
   "cell_type": "code",
   "execution_count": 0,
   "metadata": {
    "colab": {},
    "colab_type": "code",
    "id": "jDJ2nBzca3ph"
   },
   "outputs": [],
   "source": [
    "Application_Credentials = \"Text analysis-adf93dd6cd04.json\"\n",
    "os.environ['GOOGLE_APPLICATION_CREDENTIALS'] = Application_Credentials\n",
    "client = vision.ImageAnnotatorClient()\n",
    "image = vision.types.Image()"
   ]
  },
  {
   "cell_type": "code",
   "execution_count": 0,
   "metadata": {
    "colab": {},
    "colab_type": "code",
    "id": "wheQxkQBbPIF"
   },
   "outputs": [],
   "source": [
    "import pandas as pd\n",
    "df1 = pd.read_csv('result.csv')\n",
    "url = list(df1['url'])"
   ]
  },
  {
   "cell_type": "code",
   "execution_count": 0,
   "metadata": {
    "colab": {},
    "colab_type": "code",
    "id": "SuNMGC0ibSNC"
   },
   "outputs": [],
   "source": [
    "df = pd.DataFrame()\n",
    "for i in url:\n",
    "    image.source.image_uri = i\n",
    "    outcome = client.label_detection(image=image)\n",
    "    labels = outcome.label_annotations\n",
    "    text = []\n",
    "    for label in labels:\n",
    "        text.append(label.description)\n",
    "    s = ' '.join(text)\n",
    "    df = df.append({'URL': i, 'Labels': s}, ignore_index=True)\n"
   ]
  },
  {
   "cell_type": "code",
   "execution_count": 0,
   "metadata": {
    "colab": {},
    "colab_type": "code",
    "id": "5UST_ZazbUxW"
   },
   "outputs": [],
   "source": [
    "df.to_csv('lables.csv',sep=',')"
   ]
  },
  {
   "cell_type": "markdown",
   "metadata": {
    "colab_type": "text",
    "id": "PxsXzG0dbwdg"
   },
   "source": [
    "# Task A\n"
   ]
  },
  {
   "cell_type": "code",
   "execution_count": 41,
   "metadata": {
    "colab": {
     "base_uri": "https://localhost:8080/",
     "height": 103
    },
    "colab_type": "code",
    "executionInfo": {
     "elapsed": 1262,
     "status": "ok",
     "timestamp": 1574305816905,
     "user": {
      "displayName": "Rui Ying",
      "photoUrl": "https://lh3.googleusercontent.com/a-/AAuE7mBwv0VvSZH5O9HiMljG1DFFmdAuQEOjNPYs-vv2ww=s64",
      "userId": "10840686910062291302"
     },
     "user_tz": 360
    },
    "id": "WRryGenrcu60",
    "outputId": "db7dd10e-4383-4c7b-e53e-33d88aa9f40c"
   },
   "outputs": [
    {
     "name": "stderr",
     "output_type": "stream",
     "text": [
      "[nltk_data] Downloading package wordnet to C:\\Users\\Rui\n",
      "[nltk_data]     Ying\\AppData\\Roaming\\nltk_data...\n",
      "[nltk_data]   Package wordnet is already up-to-date!\n",
      "[nltk_data] Downloading package stopwords to C:\\Users\\Rui\n",
      "[nltk_data]     Ying\\AppData\\Roaming\\nltk_data...\n",
      "[nltk_data]   Package stopwords is already up-to-date!\n"
     ]
    },
    {
     "data": {
      "text/plain": [
       "True"
      ]
     },
     "execution_count": 41,
     "metadata": {},
     "output_type": "execute_result"
    }
   ],
   "source": [
    "import pandas as pd\n",
    "import csv\n",
    "import re\n",
    "import numpy as np\n",
    "from nltk.corpus import stopwords\n",
    "from nltk.tokenize import word_tokenize \n",
    "from nltk.tokenize import PunktSentenceTokenizer, RegexpTokenizer\n",
    "from nltk.stem import WordNetLemmatizer\n",
    "import warnings\n",
    "warnings.filterwarnings('ignore')\n",
    "import nltk\n",
    "import lda\n",
    "nltk.download('wordnet')\n",
    "nltk.download('stopwords')"
   ]
  },
  {
   "cell_type": "code",
   "execution_count": 42,
   "metadata": {
    "colab": {},
    "colab_type": "code",
    "id": "ERjYazsRbq42"
   },
   "outputs": [],
   "source": [
    "df = pd.read_csv('result.csv')\n",
    "df_tag = pd.read_csv('lables.csv')"
   ]
  },
  {
   "cell_type": "code",
   "execution_count": 43,
   "metadata": {
    "colab": {
     "base_uri": "https://localhost:8080/",
     "height": 203
    },
    "colab_type": "code",
    "executionInfo": {
     "elapsed": 804,
     "status": "ok",
     "timestamp": 1574305821083,
     "user": {
      "displayName": "Rui Ying",
      "photoUrl": "https://lh3.googleusercontent.com/a-/AAuE7mBwv0VvSZH5O9HiMljG1DFFmdAuQEOjNPYs-vv2ww=s64",
      "userId": "10840686910062291302"
     },
     "user_tz": 360
    },
    "id": "-YzVD-EOdyHf",
    "outputId": "d38d74b2-2952-4b05-a469-0f1178064c17"
   },
   "outputs": [
    {
     "data": {
      "text/html": [
       "<div>\n",
       "<style scoped>\n",
       "    .dataframe tbody tr th:only-of-type {\n",
       "        vertical-align: middle;\n",
       "    }\n",
       "\n",
       "    .dataframe tbody tr th {\n",
       "        vertical-align: top;\n",
       "    }\n",
       "\n",
       "    .dataframe thead th {\n",
       "        text-align: right;\n",
       "    }\n",
       "</style>\n",
       "<table border=\"1\" class=\"dataframe\">\n",
       "  <thead>\n",
       "    <tr style=\"text-align: right;\">\n",
       "      <th></th>\n",
       "      <th>caption</th>\n",
       "      <th>url</th>\n",
       "      <th>likes</th>\n",
       "      <th>comments</th>\n",
       "      <th>Labels</th>\n",
       "    </tr>\n",
       "  </thead>\n",
       "  <tbody>\n",
       "    <tr>\n",
       "      <th>0</th>\n",
       "      <td>Photos by @hammond_robin | “I feel like, what ...</td>\n",
       "      <td>https://scontent-hkg3-2.cdninstagram.com/vp/13...</td>\n",
       "      <td>37942</td>\n",
       "      <td>169</td>\n",
       "      <td>Face Facial expression Wrinkle Forehead Skin H...</td>\n",
       "    </tr>\n",
       "    <tr>\n",
       "      <th>1</th>\n",
       "      <td>Photos by @carltonward | A large male panther ...</td>\n",
       "      <td>https://scontent-hkg3-2.cdninstagram.com/vp/63...</td>\n",
       "      <td>147833</td>\n",
       "      <td>411</td>\n",
       "      <td>Grass Pasture Wildlife Grass family Grassland ...</td>\n",
       "    </tr>\n",
       "    <tr>\n",
       "      <th>2</th>\n",
       "      <td>Photos by @brentstirton | // Supported by Nat ...</td>\n",
       "      <td>https://scontent-hkg3-2.cdninstagram.com/vp/fb...</td>\n",
       "      <td>286941</td>\n",
       "      <td>819</td>\n",
       "      <td>Adventure Recreation Fawn</td>\n",
       "    </tr>\n",
       "    <tr>\n",
       "      <th>3</th>\n",
       "      <td>Photo by Michael Yamashita @yamashitaphoto | L...</td>\n",
       "      <td>https://scontent-hkg3-2.cdninstagram.com/vp/5c...</td>\n",
       "      <td>400990</td>\n",
       "      <td>3050</td>\n",
       "      <td>Design Textile Colorfulness Pattern Photograph...</td>\n",
       "    </tr>\n",
       "    <tr>\n",
       "      <th>4</th>\n",
       "      <td>Photo by Erika Larsen @erikalarsen888 | Jacind...</td>\n",
       "      <td>https://scontent-hkg3-2.cdninstagram.com/vp/db...</td>\n",
       "      <td>151548</td>\n",
       "      <td>771</td>\n",
       "      <td>Hair Face Beauty Lip Lady Hairstyle Smile Eyeb...</td>\n",
       "    </tr>\n",
       "  </tbody>\n",
       "</table>\n",
       "</div>"
      ],
      "text/plain": [
       "                                             caption  \\\n",
       "0  Photos by @hammond_robin | “I feel like, what ...   \n",
       "1  Photos by @carltonward | A large male panther ...   \n",
       "2  Photos by @brentstirton | // Supported by Nat ...   \n",
       "3  Photo by Michael Yamashita @yamashitaphoto | L...   \n",
       "4  Photo by Erika Larsen @erikalarsen888 | Jacind...   \n",
       "\n",
       "                                                 url   likes  comments  \\\n",
       "0  https://scontent-hkg3-2.cdninstagram.com/vp/13...   37942       169   \n",
       "1  https://scontent-hkg3-2.cdninstagram.com/vp/63...  147833       411   \n",
       "2  https://scontent-hkg3-2.cdninstagram.com/vp/fb...  286941       819   \n",
       "3  https://scontent-hkg3-2.cdninstagram.com/vp/5c...  400990      3050   \n",
       "4  https://scontent-hkg3-2.cdninstagram.com/vp/db...  151548       771   \n",
       "\n",
       "                                              Labels  \n",
       "0  Face Facial expression Wrinkle Forehead Skin H...  \n",
       "1  Grass Pasture Wildlife Grass family Grassland ...  \n",
       "2                          Adventure Recreation Fawn  \n",
       "3  Design Textile Colorfulness Pattern Photograph...  \n",
       "4  Hair Face Beauty Lip Lady Hairstyle Smile Eyeb...  "
      ]
     },
     "execution_count": 43,
     "metadata": {},
     "output_type": "execute_result"
    }
   ],
   "source": [
    "df_merge = df.merge(df_tag, left_on= 'url',right_on ='URL')\n",
    "del df_merge['URL']\n",
    "df_merge.head()"
   ]
  },
  {
   "cell_type": "code",
   "execution_count": 44,
   "metadata": {
    "colab": {},
    "colab_type": "code",
    "id": "H0AsduQXeSjh"
   },
   "outputs": [],
   "source": [
    "def scale(x,cols):\n",
    "    for col in cols:\n",
    "        x[col]= x[col]/max(x[col])\n",
    "    return x"
   ]
  },
  {
   "cell_type": "code",
   "execution_count": 45,
   "metadata": {
    "colab": {},
    "colab_type": "code",
    "id": "BADEyH47fLAn"
   },
   "outputs": [],
   "source": [
    "df_merge = scale(df_merge,cols=['likes','comments'])\n",
    "df_merge['engagement'] = 0.4*df_merge['likes']+0.6*df_merge['comments']"
   ]
  },
  {
   "cell_type": "code",
   "execution_count": 46,
   "metadata": {
    "colab": {
     "base_uri": "https://localhost:8080/",
     "height": 188
    },
    "colab_type": "code",
    "executionInfo": {
     "elapsed": 696,
     "status": "ok",
     "timestamp": 1574305828806,
     "user": {
      "displayName": "Rui Ying",
      "photoUrl": "https://lh3.googleusercontent.com/a-/AAuE7mBwv0VvSZH5O9HiMljG1DFFmdAuQEOjNPYs-vv2ww=s64",
      "userId": "10840686910062291302"
     },
     "user_tz": 360
    },
    "id": "65jssiOzjUFS",
    "outputId": "d87eeb91-ba74-4e74-c011-17d6341127e8"
   },
   "outputs": [],
   "source": [
    "df_merge['engagement_dummy']=0\n",
    "med = df_merge['engagement'].median()\n",
    "for i in range(len(df_merge['engagement'])):\n",
    "    if df_merge['engagement'][i] < med:\n",
    "        df_merge['engagement_dummy'][i] = 0\n",
    "    else:\n",
    "        df_merge['engagement_dummy'][i] = 1"
   ]
  },
  {
   "cell_type": "code",
   "execution_count": 47,
   "metadata": {},
   "outputs": [
    {
     "data": {
      "text/html": [
       "<div>\n",
       "<style scoped>\n",
       "    .dataframe tbody tr th:only-of-type {\n",
       "        vertical-align: middle;\n",
       "    }\n",
       "\n",
       "    .dataframe tbody tr th {\n",
       "        vertical-align: top;\n",
       "    }\n",
       "\n",
       "    .dataframe thead th {\n",
       "        text-align: right;\n",
       "    }\n",
       "</style>\n",
       "<table border=\"1\" class=\"dataframe\">\n",
       "  <thead>\n",
       "    <tr style=\"text-align: right;\">\n",
       "      <th></th>\n",
       "      <th>caption</th>\n",
       "      <th>url</th>\n",
       "      <th>likes</th>\n",
       "      <th>comments</th>\n",
       "      <th>Labels</th>\n",
       "      <th>engagement</th>\n",
       "      <th>engagement_dummy</th>\n",
       "    </tr>\n",
       "  </thead>\n",
       "  <tbody>\n",
       "    <tr>\n",
       "      <th>0</th>\n",
       "      <td>Photos by @hammond_robin | “I feel like, what ...</td>\n",
       "      <td>https://scontent-hkg3-2.cdninstagram.com/vp/13...</td>\n",
       "      <td>0.015898</td>\n",
       "      <td>0.002960</td>\n",
       "      <td>Face Facial expression Wrinkle Forehead Skin H...</td>\n",
       "      <td>0.008135</td>\n",
       "      <td>0</td>\n",
       "    </tr>\n",
       "    <tr>\n",
       "      <th>1</th>\n",
       "      <td>Photos by @carltonward | A large male panther ...</td>\n",
       "      <td>https://scontent-hkg3-2.cdninstagram.com/vp/63...</td>\n",
       "      <td>0.061944</td>\n",
       "      <td>0.007199</td>\n",
       "      <td>Grass Pasture Wildlife Grass family Grassland ...</td>\n",
       "      <td>0.029097</td>\n",
       "      <td>0</td>\n",
       "    </tr>\n",
       "    <tr>\n",
       "      <th>2</th>\n",
       "      <td>Photos by @brentstirton | // Supported by Nat ...</td>\n",
       "      <td>https://scontent-hkg3-2.cdninstagram.com/vp/fb...</td>\n",
       "      <td>0.120233</td>\n",
       "      <td>0.014345</td>\n",
       "      <td>Adventure Recreation Fawn</td>\n",
       "      <td>0.056700</td>\n",
       "      <td>0</td>\n",
       "    </tr>\n",
       "    <tr>\n",
       "      <th>3</th>\n",
       "      <td>Photo by Michael Yamashita @yamashitaphoto | L...</td>\n",
       "      <td>https://scontent-hkg3-2.cdninstagram.com/vp/5c...</td>\n",
       "      <td>0.168021</td>\n",
       "      <td>0.053421</td>\n",
       "      <td>Design Textile Colorfulness Pattern Photograph...</td>\n",
       "      <td>0.099261</td>\n",
       "      <td>1</td>\n",
       "    </tr>\n",
       "    <tr>\n",
       "      <th>4</th>\n",
       "      <td>Photo by Erika Larsen @erikalarsen888 | Jacind...</td>\n",
       "      <td>https://scontent-hkg3-2.cdninstagram.com/vp/db...</td>\n",
       "      <td>0.063501</td>\n",
       "      <td>0.013504</td>\n",
       "      <td>Hair Face Beauty Lip Lady Hairstyle Smile Eyeb...</td>\n",
       "      <td>0.033503</td>\n",
       "      <td>0</td>\n",
       "    </tr>\n",
       "  </tbody>\n",
       "</table>\n",
       "</div>"
      ],
      "text/plain": [
       "                                             caption  \\\n",
       "0  Photos by @hammond_robin | “I feel like, what ...   \n",
       "1  Photos by @carltonward | A large male panther ...   \n",
       "2  Photos by @brentstirton | // Supported by Nat ...   \n",
       "3  Photo by Michael Yamashita @yamashitaphoto | L...   \n",
       "4  Photo by Erika Larsen @erikalarsen888 | Jacind...   \n",
       "\n",
       "                                                 url     likes  comments  \\\n",
       "0  https://scontent-hkg3-2.cdninstagram.com/vp/13...  0.015898  0.002960   \n",
       "1  https://scontent-hkg3-2.cdninstagram.com/vp/63...  0.061944  0.007199   \n",
       "2  https://scontent-hkg3-2.cdninstagram.com/vp/fb...  0.120233  0.014345   \n",
       "3  https://scontent-hkg3-2.cdninstagram.com/vp/5c...  0.168021  0.053421   \n",
       "4  https://scontent-hkg3-2.cdninstagram.com/vp/db...  0.063501  0.013504   \n",
       "\n",
       "                                              Labels  engagement  \\\n",
       "0  Face Facial expression Wrinkle Forehead Skin H...    0.008135   \n",
       "1  Grass Pasture Wildlife Grass family Grassland ...    0.029097   \n",
       "2                          Adventure Recreation Fawn    0.056700   \n",
       "3  Design Textile Colorfulness Pattern Photograph...    0.099261   \n",
       "4  Hair Face Beauty Lip Lady Hairstyle Smile Eyeb...    0.033503   \n",
       "\n",
       "   engagement_dummy  \n",
       "0                 0  \n",
       "1                 0  \n",
       "2                 0  \n",
       "3                 1  \n",
       "4                 0  "
      ]
     },
     "execution_count": 47,
     "metadata": {},
     "output_type": "execute_result"
    }
   ],
   "source": [
    "df_merge.head()"
   ]
  },
  {
   "cell_type": "markdown",
   "metadata": {
    "colab_type": "text",
    "id": "scy2JSBRw8EU"
   },
   "source": [
    "# Lables Logistic Regression \n"
   ]
  },
  {
   "cell_type": "code",
   "execution_count": 49,
   "metadata": {
    "colab": {},
    "colab_type": "code",
    "id": "4asmWtRWlzA4"
   },
   "outputs": [],
   "source": [
    "from sklearn.feature_extraction.text import TfidfTransformer\n",
    "from sklearn.feature_extraction.text import CountVectorizer"
   ]
  },
  {
   "cell_type": "code",
   "execution_count": 50,
   "metadata": {
    "colab": {},
    "colab_type": "code",
    "id": "poN0LhjEmigy"
   },
   "outputs": [],
   "source": [
    "df_merge1 = df_merge.dropna()\n",
    "\n",
    "df_all = pd.DataFrame()\n",
    "cv=CountVectorizer()\n",
    " \n",
    "# this steps generates word counts for the words in your docs\n",
    "word_count_vector=cv.fit_transform(df_merge1['Labels'])\n",
    " \n",
    "tfidf_transformer=TfidfTransformer(smooth_idf=True,use_idf=True)\n",
    "tfidf_transformer.fit(word_count_vector)\n",
    " \n",
    "df_idf = pd.DataFrame(tfidf_transformer.idf_, index=cv.get_feature_names(),columns=[\"idf_weights\"])\n",
    "count_vector=cv.transform(df_merge1['Labels'])\n",
    " \n",
    "# tf-idf scores\n",
    "tf_idf_vector=tfidf_transformer.transform(count_vector)\n",
    "feature_names = cv.get_feature_names()\n",
    " \n",
    "#get tfidf vector for first document\n",
    "for i in range(len(df_merge1['Labels'])):\n",
    "    first_document_vector = tf_idf_vector[i]\n",
    "    df = pd.DataFrame(first_document_vector.T.todense(), index=feature_names, columns=[df_merge1.index.values[i]])\n",
    "    df_all = pd.concat([df_all, df.T])\n"
   ]
  },
  {
   "cell_type": "code",
   "execution_count": 51,
   "metadata": {
    "colab": {},
    "colab_type": "code",
    "id": "rmXE4WKcoDRe"
   },
   "outputs": [],
   "source": [
    "from sklearn.model_selection import train_test_split\n",
    "X_train, X_test, y_train, y_test = train_test_split(df_all, df_merge1['engagement_dummy'], test_size=0.3, random_state=1)"
   ]
  },
  {
   "cell_type": "code",
   "execution_count": 111,
   "metadata": {
    "colab": {
     "base_uri": "https://localhost:8080/",
     "height": 174
    },
    "colab_type": "code",
    "executionInfo": {
     "elapsed": 379,
     "status": "ok",
     "timestamp": 1574304504683,
     "user": {
      "displayName": "Rui Ying",
      "photoUrl": "https://lh3.googleusercontent.com/a-/AAuE7mBwv0VvSZH5O9HiMljG1DFFmdAuQEOjNPYs-vv2ww=s64",
      "userId": "10840686910062291302"
     },
     "user_tz": 360
    },
    "id": "gMIoJCPPrNXI",
    "outputId": "4a5b9191-bfae-46ff-8840-31d583a82609"
   },
   "outputs": [
    {
     "name": "stdout",
     "output_type": "stream",
     "text": [
      "0.7611111111111111\n"
     ]
    },
    {
     "data": {
      "text/html": [
       "<div>\n",
       "<style scoped>\n",
       "    .dataframe tbody tr th:only-of-type {\n",
       "        vertical-align: middle;\n",
       "    }\n",
       "\n",
       "    .dataframe tbody tr th {\n",
       "        vertical-align: top;\n",
       "    }\n",
       "\n",
       "    .dataframe thead th {\n",
       "        text-align: right;\n",
       "    }\n",
       "</style>\n",
       "<table border=\"1\" class=\"dataframe\">\n",
       "  <thead>\n",
       "    <tr style=\"text-align: right;\">\n",
       "      <th>Predicted Class</th>\n",
       "      <th>0</th>\n",
       "      <th>1</th>\n",
       "    </tr>\n",
       "    <tr>\n",
       "      <th>Actual Class</th>\n",
       "      <th></th>\n",
       "      <th></th>\n",
       "    </tr>\n",
       "  </thead>\n",
       "  <tbody>\n",
       "    <tr>\n",
       "      <th>0</th>\n",
       "      <td>67</td>\n",
       "      <td>20</td>\n",
       "    </tr>\n",
       "    <tr>\n",
       "      <th>1</th>\n",
       "      <td>23</td>\n",
       "      <td>70</td>\n",
       "    </tr>\n",
       "  </tbody>\n",
       "</table>\n",
       "</div>"
      ],
      "text/plain": [
       "Predicted Class   0   1\n",
       "Actual Class           \n",
       "0                67  20\n",
       "1                23  70"
      ]
     },
     "execution_count": 111,
     "metadata": {},
     "output_type": "execute_result"
    }
   ],
   "source": [
    "from sklearn.linear_model import LogisticRegression\n",
    "from sklearn import metrics\n",
    "from sklearn.metrics import accuracy_score\n",
    "from sklearn.metrics import confusion_matrix\n",
    "model = LogisticRegression()\n",
    "model.fit(X_train, y_train)\n",
    "y_pred = model.predict(X_test)\n",
    "c1=confusion_matrix(y_test, y_pred)\n",
    "acc1=accuracy_score(y_test, y_pred)\n",
    "print(accuracy_score(y_test, y_pred))\n",
    "pd.crosstab(y_test, y_pred, rownames = [\"Actual Class\"], colnames = [\"Predicted Class\"])"
   ]
  },
  {
   "cell_type": "markdown",
   "metadata": {
    "colab_type": "text",
    "id": "1Zgu7KJwxMaW"
   },
   "source": [
    "# Caption Logistic Regression \n"
   ]
  },
  {
   "cell_type": "code",
   "execution_count": 54,
   "metadata": {
    "colab": {
     "base_uri": "https://localhost:8080/",
     "height": 103
    },
    "colab_type": "code",
    "executionInfo": {
     "elapsed": 369,
     "status": "ok",
     "timestamp": 1574304507121,
     "user": {
      "displayName": "Rui Ying",
      "photoUrl": "https://lh3.googleusercontent.com/a-/AAuE7mBwv0VvSZH5O9HiMljG1DFFmdAuQEOjNPYs-vv2ww=s64",
      "userId": "10840686910062291302"
     },
     "user_tz": 360
    },
    "id": "0gmLza1N53z9",
    "outputId": "96da0bce-239e-4230-c89c-c982cf9e510b"
   },
   "outputs": [],
   "source": [
    "df_copy = df_merge.copy()\n",
    "df_copy['cap'] = None\n",
    "for i in range(len(df_copy['caption'])):\n",
    "    w = str(df_copy['caption'][i]).lower().split('|')\n",
    "    s = ' '.join(w[1:])\n",
    "    df_copy['cap'][i] = s"
   ]
  },
  {
   "cell_type": "code",
   "execution_count": 55,
   "metadata": {
    "colab": {},
    "colab_type": "code",
    "id": "9xv3nozOxQ7H"
   },
   "outputs": [],
   "source": [
    "df_copy = df_copy.dropna()\n",
    "\n",
    "df_all_caption = pd.DataFrame()\n",
    "cv=CountVectorizer()\n",
    " \n",
    "# this steps generates word counts for the words in your docs\n",
    "word_count_vector=cv.fit_transform(df_copy['cap'])\n",
    " \n",
    "tfidf_transformer=TfidfTransformer(smooth_idf=True,use_idf=True)\n",
    "tfidf_transformer.fit(word_count_vector)\n",
    " \n",
    "df_idf = pd.DataFrame(tfidf_transformer.idf_, index=cv.get_feature_names(),columns=[\"idf_weights\"])\n",
    "count_vector=cv.transform(df_copy['cap'])\n",
    " \n",
    "# tf-idf scores\n",
    "tf_idf_vector=tfidf_transformer.transform(count_vector)\n",
    "feature_names = cv.get_feature_names()\n",
    " \n",
    "#get tfidf vector for first document\n",
    "for i in range(len(df_copy['caption'])):\n",
    "    first_document_vector = tf_idf_vector[i]\n",
    "    df = pd.DataFrame(first_document_vector.T.todense(), index=feature_names, columns=[df_merge1.index.values[i]])\n",
    "    df_all_caption = pd.concat([df_all_caption, df.T])"
   ]
  },
  {
   "cell_type": "code",
   "execution_count": 56,
   "metadata": {
    "colab": {},
    "colab_type": "code",
    "id": "zCX-bJgWxqyA"
   },
   "outputs": [],
   "source": [
    "X1_train, X1_test, y1_train, y1_test = train_test_split(df_all_caption, df_merge1['engagement_dummy'], test_size=0.3, random_state=1)"
   ]
  },
  {
   "cell_type": "code",
   "execution_count": 112,
   "metadata": {
    "colab": {
     "base_uri": "https://localhost:8080/",
     "height": 174
    },
    "colab_type": "code",
    "executionInfo": {
     "elapsed": 348,
     "status": "ok",
     "timestamp": 1574304519610,
     "user": {
      "displayName": "Rui Ying",
      "photoUrl": "https://lh3.googleusercontent.com/a-/AAuE7mBwv0VvSZH5O9HiMljG1DFFmdAuQEOjNPYs-vv2ww=s64",
      "userId": "10840686910062291302"
     },
     "user_tz": 360
    },
    "id": "lrsx53a1y-CY",
    "outputId": "770e8ab0-9bab-4460-eb6a-2797526159d8"
   },
   "outputs": [
    {
     "name": "stdout",
     "output_type": "stream",
     "text": [
      "0.7166666666666667\n"
     ]
    },
    {
     "data": {
      "text/html": [
       "<div>\n",
       "<style scoped>\n",
       "    .dataframe tbody tr th:only-of-type {\n",
       "        vertical-align: middle;\n",
       "    }\n",
       "\n",
       "    .dataframe tbody tr th {\n",
       "        vertical-align: top;\n",
       "    }\n",
       "\n",
       "    .dataframe thead th {\n",
       "        text-align: right;\n",
       "    }\n",
       "</style>\n",
       "<table border=\"1\" class=\"dataframe\">\n",
       "  <thead>\n",
       "    <tr style=\"text-align: right;\">\n",
       "      <th>Predicted Class</th>\n",
       "      <th>0</th>\n",
       "      <th>1</th>\n",
       "    </tr>\n",
       "    <tr>\n",
       "      <th>Actual Class</th>\n",
       "      <th></th>\n",
       "      <th></th>\n",
       "    </tr>\n",
       "  </thead>\n",
       "  <tbody>\n",
       "    <tr>\n",
       "      <th>0</th>\n",
       "      <td>61</td>\n",
       "      <td>26</td>\n",
       "    </tr>\n",
       "    <tr>\n",
       "      <th>1</th>\n",
       "      <td>25</td>\n",
       "      <td>68</td>\n",
       "    </tr>\n",
       "  </tbody>\n",
       "</table>\n",
       "</div>"
      ],
      "text/plain": [
       "Predicted Class   0   1\n",
       "Actual Class           \n",
       "0                61  26\n",
       "1                25  68"
      ]
     },
     "execution_count": 112,
     "metadata": {},
     "output_type": "execute_result"
    }
   ],
   "source": [
    "model1 = LogisticRegression()\n",
    "model1.fit(X1_train, y1_train)\n",
    "y_pred1 = model1.predict(X1_test)\n",
    "c2=confusion_matrix(y1_test, y_pred1)\n",
    "acc2=accuracy_score(y1_test, y_pred1)\n",
    "print(accuracy_score(y1_test, y_pred1))\n",
    "pd.crosstab(y1_test, y_pred1, rownames = [\"Actual Class\"], colnames = [\"Predicted Class\"])"
   ]
  },
  {
   "cell_type": "markdown",
   "metadata": {
    "colab_type": "text",
    "id": "wSsYI54VzigQ"
   },
   "source": [
    "# Logistic Regression with both"
   ]
  },
  {
   "cell_type": "code",
   "execution_count": 58,
   "metadata": {
    "colab": {
     "base_uri": "https://localhost:8080/",
     "height": 103
    },
    "colab_type": "code",
    "executionInfo": {
     "elapsed": 361,
     "status": "ok",
     "timestamp": 1574304522313,
     "user": {
      "displayName": "Rui Ying",
      "photoUrl": "https://lh3.googleusercontent.com/a-/AAuE7mBwv0VvSZH5O9HiMljG1DFFmdAuQEOjNPYs-vv2ww=s64",
      "userId": "10840686910062291302"
     },
     "user_tz": 360
    },
    "id": "65uU9JNT1voz",
    "outputId": "4e5ac79b-420e-4292-e98c-c49885eaf7bd"
   },
   "outputs": [],
   "source": [
    "df_both = df_merge.copy()\n",
    "df_both['both'] = None\n",
    "for i in range(len(df_both['caption'])):\n",
    "    w = str(df_both['caption'][i]).lower().split('|')\n",
    "    s = '  '.join(w[1:])\n",
    "    df_both['both'][i] = s + str(df_merge['Labels'][i])"
   ]
  },
  {
   "cell_type": "code",
   "execution_count": 60,
   "metadata": {
    "colab": {},
    "colab_type": "code",
    "id": "c_1_l9Xd48OF"
   },
   "outputs": [],
   "source": [
    "df_both = df_both.dropna()\n",
    "\n",
    "df_final = pd.DataFrame()\n",
    "cv=CountVectorizer()\n",
    " \n",
    "# this steps generates word counts for the words in your docs\n",
    "word_count_vector=cv.fit_transform(df_both['both'])\n",
    " \n",
    "tfidf_transformer=TfidfTransformer(smooth_idf=True,use_idf=True)\n",
    "tfidf_transformer.fit(word_count_vector)\n",
    " \n",
    "df_idf = pd.DataFrame(tfidf_transformer.idf_, index=cv.get_feature_names(),columns=[\"idf_weights\"])\n",
    "count_vector=cv.transform(df_both['both'])\n",
    " \n",
    "# tf-idf scores\n",
    "tf_idf_vector=tfidf_transformer.transform(count_vector)\n",
    "feature_names = cv.get_feature_names()\n",
    " \n",
    "#get tfidf vector for first document\n",
    "for i in range(len(df_both['both'])):\n",
    "    first_document_vector = tf_idf_vector[i]\n",
    "    df = pd.DataFrame(first_document_vector.T.todense(), index=feature_names, columns=[df_merge1.index.values[i]])\n",
    "    df_final = pd.concat([df_final, df.T])"
   ]
  },
  {
   "cell_type": "code",
   "execution_count": 61,
   "metadata": {
    "colab": {},
    "colab_type": "code",
    "id": "qvI5yU147pES"
   },
   "outputs": [],
   "source": [
    "X2_train, X2_test, y2_train, y2_test = train_test_split(df_final, df_merge1['engagement_dummy'], test_size=0.3, random_state=1)"
   ]
  },
  {
   "cell_type": "code",
   "execution_count": 113,
   "metadata": {
    "colab": {
     "base_uri": "https://localhost:8080/",
     "height": 174
    },
    "colab_type": "code",
    "executionInfo": {
     "elapsed": 400,
     "status": "ok",
     "timestamp": 1574304534161,
     "user": {
      "displayName": "Rui Ying",
      "photoUrl": "https://lh3.googleusercontent.com/a-/AAuE7mBwv0VvSZH5O9HiMljG1DFFmdAuQEOjNPYs-vv2ww=s64",
      "userId": "10840686910062291302"
     },
     "user_tz": 360
    },
    "id": "MfSGDfps7rzZ",
    "outputId": "8bb62bc8-76bb-4733-87ed-7b4fb5faa5cf"
   },
   "outputs": [
    {
     "name": "stdout",
     "output_type": "stream",
     "text": [
      "0.7833333333333333\n"
     ]
    },
    {
     "data": {
      "text/html": [
       "<div>\n",
       "<style scoped>\n",
       "    .dataframe tbody tr th:only-of-type {\n",
       "        vertical-align: middle;\n",
       "    }\n",
       "\n",
       "    .dataframe tbody tr th {\n",
       "        vertical-align: top;\n",
       "    }\n",
       "\n",
       "    .dataframe thead th {\n",
       "        text-align: right;\n",
       "    }\n",
       "</style>\n",
       "<table border=\"1\" class=\"dataframe\">\n",
       "  <thead>\n",
       "    <tr style=\"text-align: right;\">\n",
       "      <th>Predicted Class</th>\n",
       "      <th>0</th>\n",
       "      <th>1</th>\n",
       "    </tr>\n",
       "    <tr>\n",
       "      <th>Actual Class</th>\n",
       "      <th></th>\n",
       "      <th></th>\n",
       "    </tr>\n",
       "  </thead>\n",
       "  <tbody>\n",
       "    <tr>\n",
       "      <th>0</th>\n",
       "      <td>65</td>\n",
       "      <td>22</td>\n",
       "    </tr>\n",
       "    <tr>\n",
       "      <th>1</th>\n",
       "      <td>17</td>\n",
       "      <td>76</td>\n",
       "    </tr>\n",
       "  </tbody>\n",
       "</table>\n",
       "</div>"
      ],
      "text/plain": [
       "Predicted Class   0   1\n",
       "Actual Class           \n",
       "0                65  22\n",
       "1                17  76"
      ]
     },
     "execution_count": 113,
     "metadata": {},
     "output_type": "execute_result"
    }
   ],
   "source": [
    "model2 = LogisticRegression()\n",
    "model2.fit(X2_train, y2_train)\n",
    "y_pred2 = model2.predict(X2_test)\n",
    "c3=confusion_matrix(y2_test, y_pred2)\n",
    "acc3=accuracy_score(y2_test, y_pred2)\n",
    "print(accuracy_score(y2_test, y_pred2))\n",
    "pd.crosstab(y2_test, y_pred2, rownames = [\"Actual Class\"], colnames = [\"Predicted Class\"])"
   ]
  },
  {
   "cell_type": "markdown",
   "metadata": {
    "colab_type": "text",
    "id": "1SATjQ3T_ztu"
   },
   "source": [
    "# Topic Modelig"
   ]
  },
  {
   "cell_type": "code",
   "execution_count": 63,
   "metadata": {
    "colab": {
     "base_uri": "https://localhost:8080/",
     "height": 67
    },
    "colab_type": "code",
    "executionInfo": {
     "elapsed": 2863,
     "status": "ok",
     "timestamp": 1574302482447,
     "user": {
      "displayName": "Chenyi Zhang",
      "photoUrl": "",
      "userId": "01547702357671122226"
     },
     "user_tz": 360
    },
    "id": "h9EJaFpLvBZz",
    "outputId": "5f8b1d0d-9308-48c2-fbd2-8e5ffc77af1a"
   },
   "outputs": [
    {
     "name": "stdout",
     "output_type": "stream",
     "text": [
      "Requirement already satisfied: lda in c:\\users\\rui ying\\appdata\\local\\programs\\python\\python36-32\\lib\\site-packages (1.1.0)\n",
      "Requirement already satisfied: numpy<2.0,>=1.13.0 in c:\\users\\rui ying\\appdata\\local\\programs\\python\\python36-32\\lib\\site-packages (from lda) (1.17.0)\n",
      "Requirement already satisfied: pbr<4,>=0.6 in c:\\users\\rui ying\\appdata\\local\\programs\\python\\python36-32\\lib\\site-packages (from lda) (3.1.1)\n"
     ]
    }
   ],
   "source": [
    "!pip install lda"
   ]
  },
  {
   "cell_type": "code",
   "execution_count": 64,
   "metadata": {
    "colab": {},
    "colab_type": "code",
    "id": "xRXOpP0Hkjxn"
   },
   "outputs": [
    {
     "name": "stderr",
     "output_type": "stream",
     "text": [
      "INFO:lda:n_documents: 598\n",
      "INFO:lda:vocab_size: 1063\n",
      "INFO:lda:n_words: 6725\n",
      "INFO:lda:n_topics: 5\n",
      "INFO:lda:n_iter: 1000\n",
      "INFO:lda:<0> log likelihood: -63731\n",
      "INFO:lda:<10> log likelihood: -44391\n",
      "INFO:lda:<20> log likelihood: -42603\n",
      "INFO:lda:<30> log likelihood: -42096\n",
      "INFO:lda:<40> log likelihood: -41687\n",
      "INFO:lda:<50> log likelihood: -41489\n",
      "INFO:lda:<60> log likelihood: -41359\n",
      "INFO:lda:<70> log likelihood: -41216\n",
      "INFO:lda:<80> log likelihood: -41120\n",
      "INFO:lda:<90> log likelihood: -40979\n",
      "INFO:lda:<100> log likelihood: -41048\n",
      "INFO:lda:<110> log likelihood: -41034\n",
      "INFO:lda:<120> log likelihood: -41013\n",
      "INFO:lda:<130> log likelihood: -41030\n",
      "INFO:lda:<140> log likelihood: -40995\n",
      "INFO:lda:<150> log likelihood: -41064\n",
      "INFO:lda:<160> log likelihood: -40964\n",
      "INFO:lda:<170> log likelihood: -40954\n",
      "INFO:lda:<180> log likelihood: -40926\n",
      "INFO:lda:<190> log likelihood: -40869\n",
      "INFO:lda:<200> log likelihood: -40833\n",
      "INFO:lda:<210> log likelihood: -40795\n",
      "INFO:lda:<220> log likelihood: -40916\n",
      "INFO:lda:<230> log likelihood: -40900\n",
      "INFO:lda:<240> log likelihood: -40887\n",
      "INFO:lda:<250> log likelihood: -40862\n",
      "INFO:lda:<260> log likelihood: -40899\n",
      "INFO:lda:<270> log likelihood: -40814\n",
      "INFO:lda:<280> log likelihood: -40795\n",
      "INFO:lda:<290> log likelihood: -40821\n",
      "INFO:lda:<300> log likelihood: -40827\n",
      "INFO:lda:<310> log likelihood: -40853\n",
      "INFO:lda:<320> log likelihood: -40895\n",
      "INFO:lda:<330> log likelihood: -40773\n",
      "INFO:lda:<340> log likelihood: -40771\n",
      "INFO:lda:<350> log likelihood: -40817\n",
      "INFO:lda:<360> log likelihood: -40796\n",
      "INFO:lda:<370> log likelihood: -40798\n",
      "INFO:lda:<380> log likelihood: -40814\n",
      "INFO:lda:<390> log likelihood: -40798\n",
      "INFO:lda:<400> log likelihood: -40778\n",
      "INFO:lda:<410> log likelihood: -40813\n",
      "INFO:lda:<420> log likelihood: -40935\n",
      "INFO:lda:<430> log likelihood: -40815\n",
      "INFO:lda:<440> log likelihood: -40906\n",
      "INFO:lda:<450> log likelihood: -40835\n",
      "INFO:lda:<460> log likelihood: -40932\n",
      "INFO:lda:<470> log likelihood: -40836\n",
      "INFO:lda:<480> log likelihood: -40840\n",
      "INFO:lda:<490> log likelihood: -40815\n",
      "INFO:lda:<500> log likelihood: -40836\n",
      "INFO:lda:<510> log likelihood: -40857\n",
      "INFO:lda:<520> log likelihood: -40824\n",
      "INFO:lda:<530> log likelihood: -40790\n",
      "INFO:lda:<540> log likelihood: -40812\n",
      "INFO:lda:<550> log likelihood: -40746\n",
      "INFO:lda:<560> log likelihood: -40738\n",
      "INFO:lda:<570> log likelihood: -40671\n",
      "INFO:lda:<580> log likelihood: -40791\n",
      "INFO:lda:<590> log likelihood: -40796\n",
      "INFO:lda:<600> log likelihood: -40757\n",
      "INFO:lda:<610> log likelihood: -40673\n",
      "INFO:lda:<620> log likelihood: -40719\n",
      "INFO:lda:<630> log likelihood: -40763\n",
      "INFO:lda:<640> log likelihood: -40877\n",
      "INFO:lda:<650> log likelihood: -40760\n",
      "INFO:lda:<660> log likelihood: -40785\n",
      "INFO:lda:<670> log likelihood: -40730\n",
      "INFO:lda:<680> log likelihood: -40823\n",
      "INFO:lda:<690> log likelihood: -40661\n",
      "INFO:lda:<700> log likelihood: -40708\n",
      "INFO:lda:<710> log likelihood: -40782\n",
      "INFO:lda:<720> log likelihood: -40816\n",
      "INFO:lda:<730> log likelihood: -40759\n",
      "INFO:lda:<740> log likelihood: -40900\n",
      "INFO:lda:<750> log likelihood: -40822\n",
      "INFO:lda:<760> log likelihood: -40639\n",
      "INFO:lda:<770> log likelihood: -40787\n",
      "INFO:lda:<780> log likelihood: -40669\n",
      "INFO:lda:<790> log likelihood: -40718\n",
      "INFO:lda:<800> log likelihood: -40694\n",
      "INFO:lda:<810> log likelihood: -40722\n",
      "INFO:lda:<820> log likelihood: -40737\n",
      "INFO:lda:<830> log likelihood: -40720\n",
      "INFO:lda:<840> log likelihood: -40700\n",
      "INFO:lda:<850> log likelihood: -40608\n",
      "INFO:lda:<860> log likelihood: -40623\n",
      "INFO:lda:<870> log likelihood: -40635\n",
      "INFO:lda:<880> log likelihood: -40650\n",
      "INFO:lda:<890> log likelihood: -40603\n",
      "INFO:lda:<900> log likelihood: -40647\n",
      "INFO:lda:<910> log likelihood: -40603\n",
      "INFO:lda:<920> log likelihood: -40705\n",
      "INFO:lda:<930> log likelihood: -40725\n",
      "INFO:lda:<940> log likelihood: -40699\n",
      "INFO:lda:<950> log likelihood: -40609\n",
      "INFO:lda:<960> log likelihood: -40719\n",
      "INFO:lda:<970> log likelihood: -40669\n",
      "INFO:lda:<980> log likelihood: -40653\n",
      "INFO:lda:<990> log likelihood: -40669\n",
      "INFO:lda:<999> log likelihood: -40681\n"
     ]
    },
    {
     "data": {
      "text/plain": [
       "<lda.lda.LDA at 0x1313ed0>"
      ]
     },
     "execution_count": 64,
     "metadata": {},
     "output_type": "execute_result"
    }
   ],
   "source": [
    "df_merge = df_merge.dropna()\n",
    "w_token=RegexpTokenizer(r'\\w+')\n",
    "w_lemma = WordNetLemmatizer()\n",
    "stop =set(stopwords.words('english'))\n",
    "\n",
    "def tokenize(version_desc):\n",
    "    text = w_lemma.lemmatize(version_desc.lower())\n",
    "    tokens = w_token.tokenize(text)\n",
    "    return tokens\n",
    "\n",
    "vec = CountVectorizer(tokenizer=tokenize, stop_words=stop, decode_error='ignore')\n",
    "words = vec.fit_transform(df_merge[\"Labels\"])\n",
    "\n",
    "model = lda.LDA(n_topics = 5, n_iter = 1000, random_state = 1)\n",
    "model.fit(words)"
   ]
  },
  {
   "cell_type": "code",
   "execution_count": 65,
   "metadata": {
    "colab": {},
    "colab_type": "code",
    "id": "T6QASpD3nvh6"
   },
   "outputs": [],
   "source": [
    "topic_word = model.topic_word_\n",
    "df_topic = pd.DataFrame(model.doc_topic_)\n",
    "df_merge = df_merge.join(df_topic)"
   ]
  },
  {
   "cell_type": "code",
   "execution_count": 66,
   "metadata": {
    "colab": {},
    "colab_type": "code",
    "id": "ob7MEbyynqMp"
   },
   "outputs": [],
   "source": [
    "df_final =pd.DataFrame()\n",
    "for i in range(5):\n",
    "    topic = str(i)\n",
    "    df_final[topic]=df_merge.groupby([\"Labels\"])[i].mean()\n",
    "\n",
    "df_final = df_final.reset_index()\n",
    "topics = pd.DataFrame(topic_word)\n",
    "topics.columns = vec.get_feature_names()\n",
    "topics = topics.T"
   ]
  },
  {
   "cell_type": "code",
   "execution_count": 67,
   "metadata": {
    "colab": {},
    "colab_type": "code",
    "id": "R0eSl1TZw_pW"
   },
   "outputs": [],
   "source": [
    "df_final.to_csv(\"Label_Topic.csv\")"
   ]
  },
  {
   "cell_type": "code",
   "execution_count": 68,
   "metadata": {
    "colab": {},
    "colab_type": "code",
    "id": "iO6Qx1MU2RG9"
   },
   "outputs": [],
   "source": [
    "topics.to_csv(\"topics.csv\")"
   ]
  },
  {
   "cell_type": "code",
   "execution_count": 69,
   "metadata": {
    "colab": {
     "base_uri": "https://localhost:8080/",
     "height": 357
    },
    "colab_type": "code",
    "executionInfo": {
     "elapsed": 350,
     "status": "ok",
     "timestamp": 1574305895187,
     "user": {
      "displayName": "Rui Ying",
      "photoUrl": "https://lh3.googleusercontent.com/a-/AAuE7mBwv0VvSZH5O9HiMljG1DFFmdAuQEOjNPYs-vv2ww=s64",
      "userId": "10840686910062291302"
     },
     "user_tz": 360
    },
    "id": "On4MLNGl2aXq",
    "outputId": "7afc3bf9-e5a7-4355-9fb2-8afb6bd5f3d7"
   },
   "outputs": [
    {
     "data": {
      "text/html": [
       "<div>\n",
       "<style scoped>\n",
       "    .dataframe tbody tr th:only-of-type {\n",
       "        vertical-align: middle;\n",
       "    }\n",
       "\n",
       "    .dataframe tbody tr th {\n",
       "        vertical-align: top;\n",
       "    }\n",
       "\n",
       "    .dataframe thead th {\n",
       "        text-align: right;\n",
       "    }\n",
       "</style>\n",
       "<table border=\"1\" class=\"dataframe\">\n",
       "  <thead>\n",
       "    <tr style=\"text-align: right;\">\n",
       "      <th></th>\n",
       "      <th>0</th>\n",
       "      <th>1</th>\n",
       "      <th>2</th>\n",
       "      <th>3</th>\n",
       "      <th>4</th>\n",
       "    </tr>\n",
       "  </thead>\n",
       "  <tbody>\n",
       "    <tr>\n",
       "      <th>sea</th>\n",
       "      <td>0.062352</td>\n",
       "      <td>0.000008</td>\n",
       "      <td>0.000007</td>\n",
       "      <td>0.020636</td>\n",
       "      <td>0.000007</td>\n",
       "    </tr>\n",
       "    <tr>\n",
       "      <th>fish</th>\n",
       "      <td>0.048924</td>\n",
       "      <td>0.000008</td>\n",
       "      <td>0.000007</td>\n",
       "      <td>0.000006</td>\n",
       "      <td>0.000007</td>\n",
       "    </tr>\n",
       "    <tr>\n",
       "      <th>marine</th>\n",
       "      <td>0.047006</td>\n",
       "      <td>0.000008</td>\n",
       "      <td>0.000007</td>\n",
       "      <td>0.000006</td>\n",
       "      <td>0.000007</td>\n",
       "    </tr>\n",
       "    <tr>\n",
       "      <th>turtle</th>\n",
       "      <td>0.040292</td>\n",
       "      <td>0.000008</td>\n",
       "      <td>0.000007</td>\n",
       "      <td>0.000006</td>\n",
       "      <td>0.000007</td>\n",
       "    </tr>\n",
       "    <tr>\n",
       "      <th>ice</th>\n",
       "      <td>0.037415</td>\n",
       "      <td>0.000008</td>\n",
       "      <td>0.000007</td>\n",
       "      <td>0.000006</td>\n",
       "      <td>0.000007</td>\n",
       "    </tr>\n",
       "    <tr>\n",
       "      <th>water</th>\n",
       "      <td>0.034538</td>\n",
       "      <td>0.000008</td>\n",
       "      <td>0.000007</td>\n",
       "      <td>0.060645</td>\n",
       "      <td>0.000007</td>\n",
       "    </tr>\n",
       "    <tr>\n",
       "      <th>shark</th>\n",
       "      <td>0.034538</td>\n",
       "      <td>0.000008</td>\n",
       "      <td>0.000007</td>\n",
       "      <td>0.000006</td>\n",
       "      <td>0.000007</td>\n",
       "    </tr>\n",
       "    <tr>\n",
       "      <th>underwater</th>\n",
       "      <td>0.032619</td>\n",
       "      <td>0.000008</td>\n",
       "      <td>0.000007</td>\n",
       "      <td>0.000006</td>\n",
       "      <td>0.000007</td>\n",
       "    </tr>\n",
       "    <tr>\n",
       "      <th>biology</th>\n",
       "      <td>0.031660</td>\n",
       "      <td>0.000008</td>\n",
       "      <td>0.000007</td>\n",
       "      <td>0.000006</td>\n",
       "      <td>0.000007</td>\n",
       "    </tr>\n",
       "    <tr>\n",
       "      <th>organism</th>\n",
       "      <td>0.025906</td>\n",
       "      <td>0.000008</td>\n",
       "      <td>0.000007</td>\n",
       "      <td>0.000006</td>\n",
       "      <td>0.011214</td>\n",
       "    </tr>\n",
       "  </tbody>\n",
       "</table>\n",
       "</div>"
      ],
      "text/plain": [
       "                   0         1         2         3         4\n",
       "sea         0.062352  0.000008  0.000007  0.020636  0.000007\n",
       "fish        0.048924  0.000008  0.000007  0.000006  0.000007\n",
       "marine      0.047006  0.000008  0.000007  0.000006  0.000007\n",
       "turtle      0.040292  0.000008  0.000007  0.000006  0.000007\n",
       "ice         0.037415  0.000008  0.000007  0.000006  0.000007\n",
       "water       0.034538  0.000008  0.000007  0.060645  0.000007\n",
       "shark       0.034538  0.000008  0.000007  0.000006  0.000007\n",
       "underwater  0.032619  0.000008  0.000007  0.000006  0.000007\n",
       "biology     0.031660  0.000008  0.000007  0.000006  0.000007\n",
       "organism    0.025906  0.000008  0.000007  0.000006  0.011214"
      ]
     },
     "execution_count": 69,
     "metadata": {},
     "output_type": "execute_result"
    }
   ],
   "source": [
    "topics.sort_values(0, ascending=False).head(10)"
   ]
  },
  {
   "cell_type": "code",
   "execution_count": 70,
   "metadata": {
    "colab": {},
    "colab_type": "code",
    "id": "9VIknjye6G6T"
   },
   "outputs": [],
   "source": [
    "topics.columns = [\"marine\",\"landscape\",\"human\",\"nature\",\"wildlife\"]"
   ]
  },
  {
   "cell_type": "code",
   "execution_count": 71,
   "metadata": {
    "colab": {},
    "colab_type": "code",
    "id": "9ATTh34Q7vCW"
   },
   "outputs": [],
   "source": [
    "df_engagement = df_final.merge(df_merge[[\"Labels\",\"engagement\"]], on = \"Labels\")"
   ]
  },
  {
   "cell_type": "code",
   "execution_count": 72,
   "metadata": {
    "colab": {},
    "colab_type": "code",
    "id": "59AAp6tr9iSQ"
   },
   "outputs": [],
   "source": [
    "top_25 = df_engagement.sort_values(\"engagement\", ascending=False)[:150]\n",
    "top_25.columns = [\"Labels\",\"marine\",\"landscape\",\"human\",\"nature\",\"wildlife\", \"engagement\"]"
   ]
  },
  {
   "cell_type": "code",
   "execution_count": 73,
   "metadata": {
    "colab": {},
    "colab_type": "code",
    "id": "jW6nvnnl9xKE"
   },
   "outputs": [],
   "source": [
    "bottom_25 = df_engagement.sort_values(\"engagement\", ascending=False)[-150:]\n",
    "bottom_25.columns = [\"Labels\",\"marine\",\"landscape\",\"human\",\"nature\",\"wildlife\", \"engagement\"]"
   ]
  },
  {
   "cell_type": "code",
   "execution_count": 74,
   "metadata": {
    "colab": {
     "base_uri": "https://localhost:8080/",
     "height": 203
    },
    "colab_type": "code",
    "executionInfo": {
     "elapsed": 1027,
     "status": "ok",
     "timestamp": 1574307022537,
     "user": {
      "displayName": "Rui Ying",
      "photoUrl": "https://lh3.googleusercontent.com/a-/AAuE7mBwv0VvSZH5O9HiMljG1DFFmdAuQEOjNPYs-vv2ww=s64",
      "userId": "10840686910062291302"
     },
     "user_tz": 360
    },
    "id": "uDJaq3zY92Ps",
    "outputId": "d4c51b12-b5f5-42ca-ad88-c920c16223b4"
   },
   "outputs": [
    {
     "data": {
      "text/html": [
       "<div>\n",
       "<style scoped>\n",
       "    .dataframe tbody tr th:only-of-type {\n",
       "        vertical-align: middle;\n",
       "    }\n",
       "\n",
       "    .dataframe tbody tr th {\n",
       "        vertical-align: top;\n",
       "    }\n",
       "\n",
       "    .dataframe thead th {\n",
       "        text-align: right;\n",
       "    }\n",
       "</style>\n",
       "<table border=\"1\" class=\"dataframe\">\n",
       "  <thead>\n",
       "    <tr style=\"text-align: right;\">\n",
       "      <th></th>\n",
       "      <th>Top 25% Avg Topic Weight</th>\n",
       "    </tr>\n",
       "  </thead>\n",
       "  <tbody>\n",
       "    <tr>\n",
       "      <th>nature</th>\n",
       "      <td>0.252407</td>\n",
       "    </tr>\n",
       "    <tr>\n",
       "      <th>wildlife</th>\n",
       "      <td>0.242786</td>\n",
       "    </tr>\n",
       "    <tr>\n",
       "      <th>landscape</th>\n",
       "      <td>0.220671</td>\n",
       "    </tr>\n",
       "    <tr>\n",
       "      <th>human</th>\n",
       "      <td>0.162037</td>\n",
       "    </tr>\n",
       "    <tr>\n",
       "      <th>marine</th>\n",
       "      <td>0.122099</td>\n",
       "    </tr>\n",
       "  </tbody>\n",
       "</table>\n",
       "</div>"
      ],
      "text/plain": [
       "           Top 25% Avg Topic Weight\n",
       "nature                     0.252407\n",
       "wildlife                   0.242786\n",
       "landscape                  0.220671\n",
       "human                      0.162037\n",
       "marine                     0.122099"
      ]
     },
     "execution_count": 74,
     "metadata": {},
     "output_type": "execute_result"
    }
   ],
   "source": [
    "avg_top_25 = pd.DataFrame(top_25[[\"marine\",\"landscape\",\"human\",\"nature\",\"wildlife\"]].mean()).sort_values(0, ascending = False)\n",
    "avg_top_25.columns = [\"Top 25% Avg Topic Weight\"]\n",
    "avg_top_25"
   ]
  },
  {
   "cell_type": "code",
   "execution_count": 75,
   "metadata": {
    "colab": {
     "base_uri": "https://localhost:8080/",
     "height": 203
    },
    "colab_type": "code",
    "executionInfo": {
     "elapsed": 567,
     "status": "ok",
     "timestamp": 1574307023878,
     "user": {
      "displayName": "Rui Ying",
      "photoUrl": "https://lh3.googleusercontent.com/a-/AAuE7mBwv0VvSZH5O9HiMljG1DFFmdAuQEOjNPYs-vv2ww=s64",
      "userId": "10840686910062291302"
     },
     "user_tz": 360
    },
    "id": "PKtHBNo6-ZoS",
    "outputId": "f1e1fde9-03da-4b91-ae3c-81d697e04013"
   },
   "outputs": [
    {
     "data": {
      "text/html": [
       "<div>\n",
       "<style scoped>\n",
       "    .dataframe tbody tr th:only-of-type {\n",
       "        vertical-align: middle;\n",
       "    }\n",
       "\n",
       "    .dataframe tbody tr th {\n",
       "        vertical-align: top;\n",
       "    }\n",
       "\n",
       "    .dataframe thead th {\n",
       "        text-align: right;\n",
       "    }\n",
       "</style>\n",
       "<table border=\"1\" class=\"dataframe\">\n",
       "  <thead>\n",
       "    <tr style=\"text-align: right;\">\n",
       "      <th></th>\n",
       "      <th>Bottom 25% Avg Topic Weight</th>\n",
       "    </tr>\n",
       "  </thead>\n",
       "  <tbody>\n",
       "    <tr>\n",
       "      <th>human</th>\n",
       "      <td>0.395546</td>\n",
       "    </tr>\n",
       "    <tr>\n",
       "      <th>nature</th>\n",
       "      <td>0.190242</td>\n",
       "    </tr>\n",
       "    <tr>\n",
       "      <th>landscape</th>\n",
       "      <td>0.165360</td>\n",
       "    </tr>\n",
       "    <tr>\n",
       "      <th>wildlife</th>\n",
       "      <td>0.137848</td>\n",
       "    </tr>\n",
       "    <tr>\n",
       "      <th>marine</th>\n",
       "      <td>0.111004</td>\n",
       "    </tr>\n",
       "  </tbody>\n",
       "</table>\n",
       "</div>"
      ],
      "text/plain": [
       "           Bottom 25% Avg Topic Weight\n",
       "human                         0.395546\n",
       "nature                        0.190242\n",
       "landscape                     0.165360\n",
       "wildlife                      0.137848\n",
       "marine                        0.111004"
      ]
     },
     "execution_count": 75,
     "metadata": {},
     "output_type": "execute_result"
    }
   ],
   "source": [
    "avg_bottom_25 = pd.DataFrame(bottom_25[[\"marine\",\"landscape\",\"human\",\"nature\",\"wildlife\"]].mean()).sort_values(0, ascending = False)\n",
    "avg_bottom_25.columns = [\"Bottom 25% Avg Topic Weight\"]\n",
    "avg_bottom_25"
   ]
  },
  {
   "cell_type": "markdown",
   "metadata": {},
   "source": [
    "# Task D"
   ]
  },
  {
   "cell_type": "markdown",
   "metadata": {},
   "source": [
    "#### The confusion matrix in three logistic regression"
   ]
  },
  {
   "cell_type": "code",
   "execution_count": 114,
   "metadata": {},
   "outputs": [
    {
     "name": "stdout",
     "output_type": "stream",
     "text": [
      "Logistic Regression With Labels\n",
      "Out of Sample Accuracy: 0.7611111111111111\n"
     ]
    },
    {
     "data": {
      "text/html": [
       "<div>\n",
       "<style scoped>\n",
       "    .dataframe tbody tr th:only-of-type {\n",
       "        vertical-align: middle;\n",
       "    }\n",
       "\n",
       "    .dataframe tbody tr th {\n",
       "        vertical-align: top;\n",
       "    }\n",
       "\n",
       "    .dataframe thead th {\n",
       "        text-align: right;\n",
       "    }\n",
       "</style>\n",
       "<table border=\"1\" class=\"dataframe\">\n",
       "  <thead>\n",
       "    <tr style=\"text-align: right;\">\n",
       "      <th>Predicted Class</th>\n",
       "      <th>0</th>\n",
       "      <th>1</th>\n",
       "    </tr>\n",
       "    <tr>\n",
       "      <th>Actual Class</th>\n",
       "      <th></th>\n",
       "      <th></th>\n",
       "    </tr>\n",
       "  </thead>\n",
       "  <tbody>\n",
       "    <tr>\n",
       "      <th>0</th>\n",
       "      <td>67</td>\n",
       "      <td>20</td>\n",
       "    </tr>\n",
       "    <tr>\n",
       "      <th>1</th>\n",
       "      <td>23</td>\n",
       "      <td>70</td>\n",
       "    </tr>\n",
       "  </tbody>\n",
       "</table>\n",
       "</div>"
      ],
      "text/plain": [
       "Predicted Class   0   1\n",
       "Actual Class           \n",
       "0                67  20\n",
       "1                23  70"
      ]
     },
     "execution_count": 114,
     "metadata": {},
     "output_type": "execute_result"
    }
   ],
   "source": [
    "print(\"Logistic Regression With Labels\")\n",
    "print(\"Out of Sample Accuracy:\" , acc1)\n",
    "pd.crosstab(y_test, y_pred, rownames = [\"Actual Class\"], colnames = [\"Predicted Class\"])"
   ]
  },
  {
   "cell_type": "code",
   "execution_count": 115,
   "metadata": {},
   "outputs": [
    {
     "name": "stdout",
     "output_type": "stream",
     "text": [
      "Logistic Regression With Caption\n",
      "Out of Sample Accuracy: 0.7166666666666667\n"
     ]
    },
    {
     "data": {
      "text/html": [
       "<div>\n",
       "<style scoped>\n",
       "    .dataframe tbody tr th:only-of-type {\n",
       "        vertical-align: middle;\n",
       "    }\n",
       "\n",
       "    .dataframe tbody tr th {\n",
       "        vertical-align: top;\n",
       "    }\n",
       "\n",
       "    .dataframe thead th {\n",
       "        text-align: right;\n",
       "    }\n",
       "</style>\n",
       "<table border=\"1\" class=\"dataframe\">\n",
       "  <thead>\n",
       "    <tr style=\"text-align: right;\">\n",
       "      <th>Predicted Class</th>\n",
       "      <th>0</th>\n",
       "      <th>1</th>\n",
       "    </tr>\n",
       "    <tr>\n",
       "      <th>Actual Class</th>\n",
       "      <th></th>\n",
       "      <th></th>\n",
       "    </tr>\n",
       "  </thead>\n",
       "  <tbody>\n",
       "    <tr>\n",
       "      <th>0</th>\n",
       "      <td>61</td>\n",
       "      <td>26</td>\n",
       "    </tr>\n",
       "    <tr>\n",
       "      <th>1</th>\n",
       "      <td>25</td>\n",
       "      <td>68</td>\n",
       "    </tr>\n",
       "  </tbody>\n",
       "</table>\n",
       "</div>"
      ],
      "text/plain": [
       "Predicted Class   0   1\n",
       "Actual Class           \n",
       "0                61  26\n",
       "1                25  68"
      ]
     },
     "execution_count": 115,
     "metadata": {},
     "output_type": "execute_result"
    }
   ],
   "source": [
    "print(\"Logistic Regression With Caption\")\n",
    "print(\"Out of Sample Accuracy:\" , acc2)\n",
    "pd.crosstab(y1_test, y_pred1, rownames = [\"Actual Class\"], colnames = [\"Predicted Class\"])"
   ]
  },
  {
   "cell_type": "code",
   "execution_count": 116,
   "metadata": {},
   "outputs": [
    {
     "name": "stdout",
     "output_type": "stream",
     "text": [
      "Logistic Regression With Labels and Caption\n",
      "Out of Sample Accuracy: 0.7833333333333333\n"
     ]
    },
    {
     "data": {
      "text/html": [
       "<div>\n",
       "<style scoped>\n",
       "    .dataframe tbody tr th:only-of-type {\n",
       "        vertical-align: middle;\n",
       "    }\n",
       "\n",
       "    .dataframe tbody tr th {\n",
       "        vertical-align: top;\n",
       "    }\n",
       "\n",
       "    .dataframe thead th {\n",
       "        text-align: right;\n",
       "    }\n",
       "</style>\n",
       "<table border=\"1\" class=\"dataframe\">\n",
       "  <thead>\n",
       "    <tr style=\"text-align: right;\">\n",
       "      <th>Predicted Class</th>\n",
       "      <th>0</th>\n",
       "      <th>1</th>\n",
       "    </tr>\n",
       "    <tr>\n",
       "      <th>Actual Class</th>\n",
       "      <th></th>\n",
       "      <th></th>\n",
       "    </tr>\n",
       "  </thead>\n",
       "  <tbody>\n",
       "    <tr>\n",
       "      <th>0</th>\n",
       "      <td>65</td>\n",
       "      <td>22</td>\n",
       "    </tr>\n",
       "    <tr>\n",
       "      <th>1</th>\n",
       "      <td>17</td>\n",
       "      <td>76</td>\n",
       "    </tr>\n",
       "  </tbody>\n",
       "</table>\n",
       "</div>"
      ],
      "text/plain": [
       "Predicted Class   0   1\n",
       "Actual Class           \n",
       "0                65  22\n",
       "1                17  76"
      ]
     },
     "execution_count": 116,
     "metadata": {},
     "output_type": "execute_result"
    }
   ],
   "source": [
    "print(\"Logistic Regression With Labels and Caption\")\n",
    "print(\"Out of Sample Accuracy:\" , acc3)\n",
    "pd.crosstab(y2_test, y_pred2, rownames = [\"Actual Class\"], colnames = [\"Predicted Class\"])"
   ]
  },
  {
   "cell_type": "code",
   "execution_count": 117,
   "metadata": {},
   "outputs": [
    {
     "data": {
      "text/html": [
       "<div>\n",
       "<style scoped>\n",
       "    .dataframe tbody tr th:only-of-type {\n",
       "        vertical-align: middle;\n",
       "    }\n",
       "\n",
       "    .dataframe tbody tr th {\n",
       "        vertical-align: top;\n",
       "    }\n",
       "\n",
       "    .dataframe thead th {\n",
       "        text-align: right;\n",
       "    }\n",
       "</style>\n",
       "<table border=\"1\" class=\"dataframe\">\n",
       "  <thead>\n",
       "    <tr style=\"text-align: right;\">\n",
       "      <th></th>\n",
       "      <th>Top 25% Avg Topic Weight</th>\n",
       "    </tr>\n",
       "  </thead>\n",
       "  <tbody>\n",
       "    <tr>\n",
       "      <th>nature</th>\n",
       "      <td>0.252407</td>\n",
       "    </tr>\n",
       "    <tr>\n",
       "      <th>wildlife</th>\n",
       "      <td>0.242786</td>\n",
       "    </tr>\n",
       "    <tr>\n",
       "      <th>landscape</th>\n",
       "      <td>0.220671</td>\n",
       "    </tr>\n",
       "    <tr>\n",
       "      <th>human</th>\n",
       "      <td>0.162037</td>\n",
       "    </tr>\n",
       "    <tr>\n",
       "      <th>marine</th>\n",
       "      <td>0.122099</td>\n",
       "    </tr>\n",
       "  </tbody>\n",
       "</table>\n",
       "</div>"
      ],
      "text/plain": [
       "           Top 25% Avg Topic Weight\n",
       "nature                     0.252407\n",
       "wildlife                   0.242786\n",
       "landscape                  0.220671\n",
       "human                      0.162037\n",
       "marine                     0.122099"
      ]
     },
     "execution_count": 117,
     "metadata": {},
     "output_type": "execute_result"
    }
   ],
   "source": [
    "avg_top_25"
   ]
  },
  {
   "cell_type": "code",
   "execution_count": 118,
   "metadata": {},
   "outputs": [
    {
     "data": {
      "text/html": [
       "<div>\n",
       "<style scoped>\n",
       "    .dataframe tbody tr th:only-of-type {\n",
       "        vertical-align: middle;\n",
       "    }\n",
       "\n",
       "    .dataframe tbody tr th {\n",
       "        vertical-align: top;\n",
       "    }\n",
       "\n",
       "    .dataframe thead th {\n",
       "        text-align: right;\n",
       "    }\n",
       "</style>\n",
       "<table border=\"1\" class=\"dataframe\">\n",
       "  <thead>\n",
       "    <tr style=\"text-align: right;\">\n",
       "      <th></th>\n",
       "      <th>Bottom 25% Avg Topic Weight</th>\n",
       "    </tr>\n",
       "  </thead>\n",
       "  <tbody>\n",
       "    <tr>\n",
       "      <th>human</th>\n",
       "      <td>0.395546</td>\n",
       "    </tr>\n",
       "    <tr>\n",
       "      <th>nature</th>\n",
       "      <td>0.190242</td>\n",
       "    </tr>\n",
       "    <tr>\n",
       "      <th>landscape</th>\n",
       "      <td>0.165360</td>\n",
       "    </tr>\n",
       "    <tr>\n",
       "      <th>wildlife</th>\n",
       "      <td>0.137848</td>\n",
       "    </tr>\n",
       "    <tr>\n",
       "      <th>marine</th>\n",
       "      <td>0.111004</td>\n",
       "    </tr>\n",
       "  </tbody>\n",
       "</table>\n",
       "</div>"
      ],
      "text/plain": [
       "           Bottom 25% Avg Topic Weight\n",
       "human                         0.395546\n",
       "nature                        0.190242\n",
       "landscape                     0.165360\n",
       "wildlife                      0.137848\n",
       "marine                        0.111004"
      ]
     },
     "execution_count": 118,
     "metadata": {},
     "output_type": "execute_result"
    }
   ],
   "source": [
    "avg_bottom_25"
   ]
  }
 ],
 "metadata": {
  "colab": {
   "collapsed_sections": [],
   "name": "Sandy Copy of Assigment2.ipynb",
   "provenance": []
  },
  "kernelspec": {
   "display_name": "Python 3",
   "language": "python",
   "name": "python3"
  },
  "language_info": {
   "codemirror_mode": {
    "name": "ipython",
    "version": 3
   },
   "file_extension": ".py",
   "mimetype": "text/x-python",
   "name": "python",
   "nbconvert_exporter": "python",
   "pygments_lexer": "ipython3",
   "version": "3.6.5"
  }
 },
 "nbformat": 4,
 "nbformat_minor": 1
}
